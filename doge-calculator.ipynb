{
 "cells": [
  {
   "cell_type": "code",
   "execution_count": 1,
   "metadata": {},
   "outputs": [],
   "source": [
    "import requests\n",
    "import pandas as pd\n",
    "import json\n",
    "import ipywidgets as widgets\n",
    "from datetime import date"
   ]
  },
  {
   "cell_type": "code",
   "execution_count": 2,
   "metadata": {},
   "outputs": [
    {
     "data": {
      "text/html": [
       "<div>\n",
       "<style scoped>\n",
       "    .dataframe tbody tr th:only-of-type {\n",
       "        vertical-align: middle;\n",
       "    }\n",
       "\n",
       "    .dataframe tbody tr th {\n",
       "        vertical-align: top;\n",
       "    }\n",
       "\n",
       "    .dataframe thead th {\n",
       "        text-align: right;\n",
       "    }\n",
       "</style>\n",
       "<table border=\"1\" class=\"dataframe\">\n",
       "  <thead>\n",
       "    <tr style=\"text-align: right;\">\n",
       "      <th></th>\n",
       "      <th>Date</th>\n",
       "      <th>High</th>\n",
       "    </tr>\n",
       "  </thead>\n",
       "  <tbody>\n",
       "    <tr>\n",
       "      <th>0</th>\n",
       "      <td>2021-05-05</td>\n",
       "      <td>0.677000</td>\n",
       "    </tr>\n",
       "    <tr>\n",
       "      <th>1</th>\n",
       "      <td>2014-09-17</td>\n",
       "      <td>0.000299</td>\n",
       "    </tr>\n",
       "    <tr>\n",
       "      <th>2</th>\n",
       "      <td>2014-09-18</td>\n",
       "      <td>0.000325</td>\n",
       "    </tr>\n",
       "    <tr>\n",
       "      <th>3</th>\n",
       "      <td>2014-09-19</td>\n",
       "      <td>0.000307</td>\n",
       "    </tr>\n",
       "    <tr>\n",
       "      <th>4</th>\n",
       "      <td>2014-09-20</td>\n",
       "      <td>0.000310</td>\n",
       "    </tr>\n",
       "  </tbody>\n",
       "</table>\n",
       "</div>"
      ],
      "text/plain": [
       "         Date      High\n",
       "0  2021-05-05  0.677000\n",
       "1  2014-09-17  0.000299\n",
       "2  2014-09-18  0.000325\n",
       "3  2014-09-19  0.000307\n",
       "4  2014-09-20  0.000310"
      ]
     },
     "execution_count": 2,
     "metadata": {},
     "output_type": "execute_result"
    }
   ],
   "source": [
    "# read historical csv and read to data frame\n",
    "csv_name = 'historical_DOGE-USD.csv'\n",
    "prices_df = pd.read_csv(csv_name)\n",
    "prices_df.head()"
   ]
  },
  {
   "cell_type": "code",
   "execution_count": 3,
   "metadata": {},
   "outputs": [
    {
     "name": "stdout",
     "output_type": "stream",
     "text": [
      "0.677\n"
     ]
    }
   ],
   "source": [
    "# get current price of doge and add overwrite todays entry\n",
    "json_response = requests.get('https://sochain.com//api/v2/get_price/DOGE/USD').json()\n",
    "\n",
    "i = 0\n",
    "current_price = -1\n",
    "if json_response['status'] == 'success':\n",
    "  while current_price <= 0:\n",
    "    current_price = float(json_response['data']['prices'][i]['price'])\n",
    "    i += 1\n",
    "\n",
    "print(current_price)"
   ]
  },
  {
   "cell_type": "code",
   "execution_count": 4,
   "metadata": {},
   "outputs": [],
   "source": [
    "# add today's price to the csv for next run. keep the highest price when duplicate dates\n",
    "df_today = {'Date': date.today(), 'High': current_price}\n",
    "prices_df = prices_df.append(df_today, ignore_index = True)\n",
    "prices_df = prices_df.sort_values(['Date', 'High'] , ascending=True).drop_duplicates(['Date'] , keep='last').reset_index(drop=True)\n",
    "prices_df.set_index(['Date']).to_csv(csv_name)"
   ]
  },
  {
   "cell_type": "code",
   "execution_count": 5,
   "metadata": {},
   "outputs": [
    {
     "data": {
      "application/vnd.jupyter.widget-view+json": {
       "model_id": "51b753d9f5634fe097ccbe8bfd39ad18",
       "version_major": 2,
       "version_minor": 0
      },
      "text/plain": [
       "DatePicker(value=None, description='Select Date')"
      ]
     },
     "metadata": {},
     "output_type": "display_data"
    }
   ],
   "source": [
    "# accept date from user\n",
    "calendar = widgets.DatePicker(\n",
    "    description='Select Date',\n",
    "    disabled=False\n",
    ")\n",
    "calendar"
   ]
  },
  {
   "cell_type": "code",
   "execution_count": 6,
   "metadata": {},
   "outputs": [
    {
     "data": {
      "application/vnd.jupyter.widget-view+json": {
       "model_id": "bbb9e5077ff640f5ac1dec3656514e7a",
       "version_major": 2,
       "version_minor": 0
      },
      "text/plain": [
       "BoundedFloatText(value=100.0, description='Investment $', max=1000000000000.0)"
      ]
     },
     "metadata": {},
     "output_type": "display_data"
    }
   ],
   "source": [
    "# accept money invested on date from user\n",
    "investment_input = widgets.BoundedFloatText(\n",
    "    value=100.00,\n",
    "    min=0,\n",
    "    max=1_000_000_000_000,\n",
    "    description='Investment $',\n",
    "    disabled=False\n",
    ")\n",
    "investment_input"
   ]
  },
  {
   "cell_type": "code",
   "execution_count": 7,
   "metadata": {},
   "outputs": [
    {
     "name": "stdout",
     "output_type": "stream",
     "text": [
      "initial_investment = $100.0, \n",
      "buy_date = 2021-04-26,\n",
      "buy_date_price = $0.28,\n",
      "coins_bought = 356.57, \n",
      "current_price = $0.68,\n",
      "current_value = $241.4, \n",
      "percent_change = 141.4%\n"
     ]
    }
   ],
   "source": [
    "# read calendar widget\n",
    "buy_date = str(calendar.value)\n",
    "\n",
    "# get price on day in calendar widget\n",
    "price_on_date = prices_df[prices_df['Date']==buy_date]['High'].values[0]\n",
    "\n",
    "# read initial investment widget\n",
    "initial_investment = investment_input.value\n",
    "\n",
    "# calculate number of coins bought with initial investment\n",
    "coins_bought = initial_investment / price_on_date\n",
    "\n",
    "# calculate current value\n",
    "current_value = coins_bought * current_price\n",
    "\n",
    "# calculate percent returns\n",
    "percent_change = (current_value - initial_investment) / initial_investment * 100\n",
    "\n",
    "# display output\n",
    "print(f\"\"\"initial_investment = ${round(initial_investment,2)}, \n",
    "buy_date = {buy_date},\n",
    "buy_date_price = ${round(price_on_date,2)},\n",
    "coins_bought = {round(coins_bought,2)}, \n",
    "current_price = ${round(current_price,2)},\n",
    "current_value = ${round(current_value,2)}, \n",
    "percent_change = {round(percent_change,2)}%\"\"\")\n"
   ]
  },
  {
   "cell_type": "code",
   "execution_count": null,
   "metadata": {},
   "outputs": [],
   "source": [
    "# TODO: Make into Viola file"
   ]
  },
  {
   "cell_type": "code",
   "execution_count": null,
   "metadata": {},
   "outputs": [],
   "source": [
    "# TODO: Make WHAT-IF simulations for what-if buy price or what-if sell price"
   ]
  }
 ],
 "metadata": {
  "kernelspec": {
   "display_name": "Python 3",
   "language": "python",
   "name": "python3"
  },
  "language_info": {
   "codemirror_mode": {
    "name": "ipython",
    "version": 3
   },
   "file_extension": ".py",
   "mimetype": "text/x-python",
   "name": "python",
   "nbconvert_exporter": "python",
   "pygments_lexer": "ipython3",
   "version": "3.8.3"
  }
 },
 "nbformat": 4,
 "nbformat_minor": 4
}
