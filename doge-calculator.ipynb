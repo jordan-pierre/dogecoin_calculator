{
 "cells": [
  {
   "cell_type": "code",
   "execution_count": 1,
   "metadata": {},
   "outputs": [],
   "source": [
    "import requests\n",
    "import pandas as pd\n",
    "import json\n",
    "import ipywidgets as widgets\n",
    "from IPython.display import display\n",
    "from datetime import datetime, date, timedelta"
   ]
  },
  {
   "cell_type": "code",
   "execution_count": 2,
   "metadata": {},
   "outputs": [],
   "source": [
    "# read historical csv and read to data frame\n",
    "csv_name = 'historical_DOGE-USD.csv'\n",
    "prices_df = pd.read_csv(csv_name)\n",
    "#prices_df.head()"
   ]
  },
  {
   "cell_type": "code",
   "execution_count": 3,
   "metadata": {},
   "outputs": [],
   "source": [
    "# get current price of doge and add overwrite todays entry\n",
    "json_response = requests.get('https://sochain.com//api/v2/get_price/DOGE/USD').json()\n",
    "\n",
    "i = 0\n",
    "current_price = -1\n",
    "if json_response['status'] == 'success':\n",
    "  while current_price <= 0:\n",
    "    current_price = float(json_response['data']['prices'][i]['price'])\n",
    "    i += 1\n",
    "\n",
    "#print(current_price)"
   ]
  },
  {
   "cell_type": "code",
   "execution_count": 4,
   "metadata": {},
   "outputs": [],
   "source": [
    "# add today's price to the csv for next run. keep the highest price when duplicate dates\n",
    "df_today = {'Date': date.today(), 'High': current_price}\n",
    "prices_df = prices_df.append(df_today, ignore_index = True)\n",
    "prices_df = prices_df.sort_values(['Date', 'High'] , ascending=True).drop_duplicates(['Date'] , keep='last').reset_index(drop=True)\n",
    "prices_df.set_index(['Date']).to_csv(csv_name)"
   ]
  },
  {
   "cell_type": "code",
   "execution_count": 5,
   "metadata": {},
   "outputs": [],
   "source": [
    "# accept date from user\n",
    "calendar = widgets.DatePicker(\n",
    "    description='Select Date',\n",
    "    disabled=False\n",
    ")\n",
    "#calendar"
   ]
  },
  {
   "cell_type": "code",
   "execution_count": 6,
   "metadata": {},
   "outputs": [],
   "source": [
    "# accept money invested on date from user\n",
    "investment_input = widgets.BoundedFloatText(\n",
    "    value=100.00,\n",
    "    min=0,\n",
    "    max=1_000_000_000_000,\n",
    "    description='Investment $',\n",
    "    disabled=False\n",
    ")\n",
    "#investment_input"
   ]
  },
  {
   "cell_type": "code",
   "execution_count": 7,
   "metadata": {},
   "outputs": [],
   "source": [
    "# create a button for calculating return\n",
    "button = widgets.Button(description=\"Calculate\")\n",
    "#button"
   ]
  },
  {
   "cell_type": "code",
   "execution_count": 8,
   "metadata": {},
   "outputs": [],
   "source": [
    "# define labels used in function\n",
    "select_date_label = widgets.Label('Select a valid date.')\n",
    "price_not_found_label = widgets.Label('Price not found. Please select another date.')\n",
    "price_on_date_label = widgets.Label()\n",
    "coins_bought_label = widgets.Label()\n",
    "current_price_label = widgets.Label()\n",
    "current_value_label = widgets.Label()\n",
    "percent_change_label = widgets.Label() \n",
    "wordy_label = widgets.Label() \n",
    "\n",
    "def on_click_calculate(change):\n",
    "    # read calendar widget\n",
    "    buy_date = calendar.value\n",
    "    if buy_date is None:\n",
    "        display(select_date_label)\n",
    "    elif date.today() - buy_date <= timedelta(days=0):\n",
    "        display(select_date_label)\n",
    "    else:\n",
    "        # hide date warning label\n",
    "        select_date_label.layout.visibility = 'hidden'\n",
    "        buy_date = str(calendar.value)\n",
    "        \n",
    "        try:\n",
    "            # get price on day in calendar widget\n",
    "            price_on_date = prices_df[prices_df['Date']==buy_date]['High'].values[0]\n",
    "        except IndexError as e:\n",
    "            display(price_not_found_label)\n",
    "        else:\n",
    "            price_not_found_label.layout.visibility = 'hidden'\n",
    "            # read initial investment widget\n",
    "            initial_investment = investment_input.value\n",
    "\n",
    "            # calculate number of coins bought with initial investment\n",
    "            coins_bought = initial_investment / price_on_date\n",
    "\n",
    "            # calculate current value\n",
    "            current_value = coins_bought * current_price\n",
    "\n",
    "            # calculate percent returns\n",
    "            percent_change = (current_value - initial_investment) / initial_investment * 100\n",
    "\n",
    "            # display output (couldn't figure out how to do multi-line label)\n",
    "            price_on_date_label.value = f\"Price on date: ${round(price_on_date,2)}\"\n",
    "            coins_bought_label.value = f\"Coins bought: {round(coins_bought,1)}\"\n",
    "            current_price_label.value = f\"Current price: ${round(current_price,2)}\"\n",
    "            current_value_label.value = f\"Current value: ${round(current_value,2)}\"\n",
    "            percent_change_label.value = f\"Percent change: {round(percent_change,2)}%\"\n",
    "            wordy_label.value = f\"On {buy_date}, 1 dogecoin was worth \\${round(price_on_date,2)}.  With \\${initial_investment}, you could have bought {round(coins_bought,1)} coins.  Today, that'd be worth \\${round(current_value,2)} at \\${round(current_price,2)} per coin.  That's a {round(percent_change,2)}% gain you missed out on!\"\n",
    "\n",
    "button.on_click(on_click_calculate)"
   ]
  },
  {
   "cell_type": "code",
   "execution_count": 9,
   "metadata": {
    "scrolled": true
   },
   "outputs": [
    {
     "data": {
      "application/vnd.jupyter.widget-view+json": {
       "model_id": "ec99dc36f12c41b2aae0191c9d2ccbf5",
       "version_major": 2,
       "version_minor": 0
      },
      "text/plain": [
       "VBox(children=(HTML(value='<b>See how bad you missed out on dogecoin!'), BoundedFloatText(value=100.0, descrip…"
      ]
     },
     "metadata": {},
     "output_type": "display_data"
    }
   ],
   "source": [
    "widgets.VBox([widgets.HTML('<b>See how bad you missed out on dogecoin!'), \n",
    "              investment_input, calendar, button, \n",
    "              #price_on_date_label, \n",
    "              price_on_date_label, \n",
    "              current_price_label, \n",
    "              current_value_label, \n",
    "              percent_change_label,\n",
    "              wordy_label])"
   ]
  },
  {
   "cell_type": "code",
   "execution_count": 10,
   "metadata": {},
   "outputs": [
    {
     "name": "stdout",
     "output_type": "stream",
     "text": [
      "Enabling: voila\n",
      "- Writing config: /home/jordan/anaconda3/etc/jupyter\n",
      "    - Validating...\n",
      "/home/jordan/anaconda3/lib/python3.8/site-packages/setuptools/distutils_patch.py:25: UserWarning: Distutils was imported before Setuptools. This usage is discouraged and may exhibit undesirable behaviors or errors. Please use Setuptools' objects directly or at least import Setuptools first.\n",
      "  warnings.warn(\n",
      "      voila 0.2.10 \u001b[32mOK\u001b[0m\n"
     ]
    }
   ],
   "source": [
    "# Uncomment to make into a voila app (replace the word \"notebooks\" in the URL with \"voila/render\")\n",
    "!jupyter serverextension enable --sys-prefix voila\n",
    "\n"
   ]
  },
  {
   "cell_type": "code",
   "execution_count": 11,
   "metadata": {},
   "outputs": [],
   "source": [
    "# TODO: Make WHAT-IF simulations for what-if buy price or what-if sell price"
   ]
  }
 ],
 "metadata": {
  "kernelspec": {
   "display_name": "Python 3",
   "language": "python",
   "name": "python3"
  },
  "language_info": {
   "codemirror_mode": {
    "name": "ipython",
    "version": 3
   },
   "file_extension": ".py",
   "mimetype": "text/x-python",
   "name": "python",
   "nbconvert_exporter": "python",
   "pygments_lexer": "ipython3",
   "version": "3.8.3"
  }
 },
 "nbformat": 4,
 "nbformat_minor": 4
}
